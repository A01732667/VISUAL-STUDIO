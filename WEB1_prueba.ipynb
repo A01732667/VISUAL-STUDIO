{
 "cells": [
  {
   "cell_type": "code",
   "execution_count": 1,
   "id": "3dce952b",
   "metadata": {},
   "outputs": [],
   "source": [
    "import pandas as pd\n",
    "import numpy as np\n",
    "import matplotlib.pyplot as plt\n",
    "import seaborn as sns\n"
   ]
  },
  {
   "cell_type": "code",
   "execution_count": 2,
   "id": "89c2b216",
   "metadata": {},
   "outputs": [],
   "source": [
    "df = pd.read_excel(\"sellers.xlsx\")"
   ]
  },
  {
   "cell_type": "code",
   "execution_count": 3,
   "id": "d194ee23",
   "metadata": {},
   "outputs": [
    {
     "data": {
      "application/vnd.microsoft.datawrangler.viewer.v0+json": {
       "columns": [
        {
         "name": "index",
         "rawType": "int64",
         "type": "integer"
        },
        {
         "name": "REGION",
         "rawType": "object",
         "type": "string"
        },
        {
         "name": "ID",
         "rawType": "int64",
         "type": "integer"
        },
        {
         "name": "NOMBRE",
         "rawType": "object",
         "type": "string"
        },
        {
         "name": "APELLIDO",
         "rawType": "object",
         "type": "string"
        },
        {
         "name": "SALARIO",
         "rawType": "int64",
         "type": "integer"
        },
        {
         "name": "UNIDADES VENDIDAS",
         "rawType": "int64",
         "type": "integer"
        },
        {
         "name": "VENTAS TOTALES",
         "rawType": "int64",
         "type": "integer"
        },
        {
         "name": "PORCENTAJE DE VENTAS",
         "rawType": "float64",
         "type": "float"
        }
       ],
       "ref": "86128e09-b7eb-433a-aad5-35dc2fce2299",
       "rows": [
        [
         "0",
         "NORTE",
         "8725",
         "Arturo",
         "Bustos González",
         "12041",
         "212",
         "4554",
         "0.0693425099735055"
        ],
        [
         "1",
         "NORTE",
         "4352",
         "Jesús Said",
         "Caro Ibarra",
         "11504",
         "488",
         "3298",
         "0.050217742181076226"
        ],
        [
         "2",
         "NORTE",
         "5185",
         "Ana Valeria",
         "Cruz Montesinos",
         "10046",
         "429",
         "7238",
         "0.1102110424216585"
        ],
        [
         "3",
         "NORTE",
         "6918",
         "Miranda",
         "Doring Romo",
         "10266",
         "109",
         "5635",
         "0.08580260072479215"
        ],
        [
         "4",
         "NORTE",
         "8607",
         "Bruno Guissepe",
         "Garcini García",
         "10431",
         "222",
         "5405",
         "0.08230045375643329"
        ]
       ],
       "shape": {
        "columns": 8,
        "rows": 5
       }
      },
      "text/html": [
       "<div>\n",
       "<style scoped>\n",
       "    .dataframe tbody tr th:only-of-type {\n",
       "        vertical-align: middle;\n",
       "    }\n",
       "\n",
       "    .dataframe tbody tr th {\n",
       "        vertical-align: top;\n",
       "    }\n",
       "\n",
       "    .dataframe thead th {\n",
       "        text-align: right;\n",
       "    }\n",
       "</style>\n",
       "<table border=\"1\" class=\"dataframe\">\n",
       "  <thead>\n",
       "    <tr style=\"text-align: right;\">\n",
       "      <th></th>\n",
       "      <th>REGION</th>\n",
       "      <th>ID</th>\n",
       "      <th>NOMBRE</th>\n",
       "      <th>APELLIDO</th>\n",
       "      <th>SALARIO</th>\n",
       "      <th>UNIDADES VENDIDAS</th>\n",
       "      <th>VENTAS TOTALES</th>\n",
       "      <th>PORCENTAJE DE VENTAS</th>\n",
       "    </tr>\n",
       "  </thead>\n",
       "  <tbody>\n",
       "    <tr>\n",
       "      <th>0</th>\n",
       "      <td>NORTE</td>\n",
       "      <td>8725</td>\n",
       "      <td>Arturo</td>\n",
       "      <td>Bustos González</td>\n",
       "      <td>12041</td>\n",
       "      <td>212</td>\n",
       "      <td>4554</td>\n",
       "      <td>0.069343</td>\n",
       "    </tr>\n",
       "    <tr>\n",
       "      <th>1</th>\n",
       "      <td>NORTE</td>\n",
       "      <td>4352</td>\n",
       "      <td>Jesús Said</td>\n",
       "      <td>Caro Ibarra</td>\n",
       "      <td>11504</td>\n",
       "      <td>488</td>\n",
       "      <td>3298</td>\n",
       "      <td>0.050218</td>\n",
       "    </tr>\n",
       "    <tr>\n",
       "      <th>2</th>\n",
       "      <td>NORTE</td>\n",
       "      <td>5185</td>\n",
       "      <td>Ana Valeria</td>\n",
       "      <td>Cruz Montesinos</td>\n",
       "      <td>10046</td>\n",
       "      <td>429</td>\n",
       "      <td>7238</td>\n",
       "      <td>0.110211</td>\n",
       "    </tr>\n",
       "    <tr>\n",
       "      <th>3</th>\n",
       "      <td>NORTE</td>\n",
       "      <td>6918</td>\n",
       "      <td>Miranda</td>\n",
       "      <td>Doring Romo</td>\n",
       "      <td>10266</td>\n",
       "      <td>109</td>\n",
       "      <td>5635</td>\n",
       "      <td>0.085803</td>\n",
       "    </tr>\n",
       "    <tr>\n",
       "      <th>4</th>\n",
       "      <td>NORTE</td>\n",
       "      <td>8607</td>\n",
       "      <td>Bruno Guissepe</td>\n",
       "      <td>Garcini García</td>\n",
       "      <td>10431</td>\n",
       "      <td>222</td>\n",
       "      <td>5405</td>\n",
       "      <td>0.082300</td>\n",
       "    </tr>\n",
       "  </tbody>\n",
       "</table>\n",
       "</div>"
      ],
      "text/plain": [
       "  REGION    ID          NOMBRE         APELLIDO  SALARIO  UNIDADES VENDIDAS  \\\n",
       "0  NORTE  8725          Arturo  Bustos González    12041                212   \n",
       "1  NORTE  4352      Jesús Said      Caro Ibarra    11504                488   \n",
       "2  NORTE  5185     Ana Valeria  Cruz Montesinos    10046                429   \n",
       "3  NORTE  6918         Miranda      Doring Romo    10266                109   \n",
       "4  NORTE  8607  Bruno Guissepe   Garcini García    10431                222   \n",
       "\n",
       "   VENTAS TOTALES  PORCENTAJE DE VENTAS  \n",
       "0            4554              0.069343  \n",
       "1            3298              0.050218  \n",
       "2            7238              0.110211  \n",
       "3            5635              0.085803  \n",
       "4            5405              0.082300  "
      ]
     },
     "execution_count": 3,
     "metadata": {},
     "output_type": "execute_result"
    }
   ],
   "source": [
    "df.head()"
   ]
  },
  {
   "cell_type": "code",
   "execution_count": 4,
   "id": "4774cfaf",
   "metadata": {},
   "outputs": [],
   "source": [
    "import streamlit as st\n"
   ]
  },
  {
   "cell_type": "code",
   "execution_count": 5,
   "id": "981fa5de",
   "metadata": {},
   "outputs": [
    {
     "name": "stderr",
     "output_type": "stream",
     "text": [
      "2025-05-25 16:42:40.184 WARNING streamlit.runtime.scriptrunner_utils.script_run_context: Thread 'MainThread': missing ScriptRunContext! This warning can be ignored when running in bare mode.\n",
      "2025-05-25 16:42:40.360 \n",
      "  \u001b[33m\u001b[1mWarning:\u001b[0m to view this Streamlit app on a browser, run it with the following\n",
      "  command:\n",
      "\n",
      "    streamlit run /Users/pollo/Library/Python/3.13/lib/python/site-packages/ipykernel_launcher.py [ARGUMENTS]\n",
      "2025-05-25 16:42:40.361 Thread 'MainThread': missing ScriptRunContext! This warning can be ignored when running in bare mode.\n",
      "2025-05-25 16:42:40.361 Thread 'MainThread': missing ScriptRunContext! This warning can be ignored when running in bare mode.\n",
      "2025-05-25 16:42:40.362 Thread 'MainThread': missing ScriptRunContext! This warning can be ignored when running in bare mode.\n",
      "2025-05-25 16:42:40.363 Thread 'MainThread': missing ScriptRunContext! This warning can be ignored when running in bare mode.\n",
      "2025-05-25 16:42:40.364 Thread 'MainThread': missing ScriptRunContext! This warning can be ignored when running in bare mode.\n",
      "2025-05-25 16:42:40.364 Thread 'MainThread': missing ScriptRunContext! This warning can be ignored when running in bare mode.\n",
      "2025-05-25 16:42:40.365 Thread 'MainThread': missing ScriptRunContext! This warning can be ignored when running in bare mode.\n",
      "2025-05-25 16:42:40.366 Session state does not function when running a script without `streamlit run`\n",
      "2025-05-25 16:42:40.366 Thread 'MainThread': missing ScriptRunContext! This warning can be ignored when running in bare mode.\n",
      "2025-05-25 16:42:40.367 Thread 'MainThread': missing ScriptRunContext! This warning can be ignored when running in bare mode.\n",
      "2025-05-25 16:42:40.368 Thread 'MainThread': missing ScriptRunContext! This warning can be ignored when running in bare mode.\n",
      "2025-05-25 16:42:40.368 Thread 'MainThread': missing ScriptRunContext! This warning can be ignored when running in bare mode.\n",
      "2025-05-25 16:42:40.369 Thread 'MainThread': missing ScriptRunContext! This warning can be ignored when running in bare mode.\n",
      "2025-05-25 16:42:40.369 Thread 'MainThread': missing ScriptRunContext! This warning can be ignored when running in bare mode.\n",
      "2025-05-25 16:42:40.370 Thread 'MainThread': missing ScriptRunContext! This warning can be ignored when running in bare mode.\n",
      "2025-05-25 16:42:40.370 Thread 'MainThread': missing ScriptRunContext! This warning can be ignored when running in bare mode.\n"
     ]
    }
   ],
   "source": [
    "# Title and Sidebar\n",
    "st.title(\"Sellers Data Analysis\")\n",
    "st.sidebar.header(\"Filter Options\")\n",
    "\n",
    "# Load data (assuming df is already loaded above this code)\n",
    "\n",
    "# Filter by Region\n",
    "region_options = df['REGION'].unique()\n",
    "selected_region = st.sidebar.selectbox(\"Select REGION\", options=[\"All\"] + list(region_options))\n",
    "\n",
    "if selected_region != \"All\":\n",
    "    df_region = df[df['REGION'] == selected_region]\n",
    "else:\n",
    "    df_region = df\n",
    "\n",
    "# Filter by Seller\n",
    "seller_options = df_region['NOMBRE'].unique()\n",
    "selected_seller = st.sidebar.selectbox(\"Select Seller\", options=[\"All\"] + list(seller_options))\n",
    "\n",
    "if selected_seller != \"All\":\n",
    "    df_vendor = df_region[df_region['NOMBRE'] == selected_seller]\n",
    "else:\n",
    "    df_vendor = df_region\n",
    "\n",
    "\n"
   ]
  },
  {
   "cell_type": "code",
   "execution_count": 6,
   "id": "2859287c",
   "metadata": {},
   "outputs": [
    {
     "name": "stderr",
     "output_type": "stream",
     "text": [
      "2025-05-25 16:42:40.380 Thread 'MainThread': missing ScriptRunContext! This warning can be ignored when running in bare mode.\n",
      "2025-05-25 16:42:40.382 Thread 'MainThread': missing ScriptRunContext! This warning can be ignored when running in bare mode.\n",
      "2025-05-25 16:42:40.391 Thread 'MainThread': missing ScriptRunContext! This warning can be ignored when running in bare mode.\n",
      "2025-05-25 16:42:40.392 Thread 'MainThread': missing ScriptRunContext! This warning can be ignored when running in bare mode.\n"
     ]
    },
    {
     "data": {
      "text/plain": [
       "DeltaGenerator()"
      ]
     },
     "execution_count": 6,
     "metadata": {},
     "output_type": "execute_result"
    }
   ],
   "source": [
    "#Filtering display\n",
    "\n",
    "st.subheader(\"Filtered Data\")\n",
    "st.dataframe(df_vendor)\n"
   ]
  },
  {
   "cell_type": "code",
   "execution_count": 7,
   "id": "57c6b7a0",
   "metadata": {},
   "outputs": [
    {
     "name": "stderr",
     "output_type": "stream",
     "text": [
      "2025-05-25 16:42:40.405 Thread 'MainThread': missing ScriptRunContext! This warning can be ignored when running in bare mode.\n",
      "2025-05-25 16:42:40.407 Thread 'MainThread': missing ScriptRunContext! This warning can be ignored when running in bare mode.\n",
      "2025-05-25 16:42:40.408 Thread 'MainThread': missing ScriptRunContext! This warning can be ignored when running in bare mode.\n",
      "2025-05-25 16:42:40.409 Thread 'MainThread': missing ScriptRunContext! This warning can be ignored when running in bare mode.\n",
      "2025-05-25 16:42:40.410 Thread 'MainThread': missing ScriptRunContext! This warning can be ignored when running in bare mode.\n",
      "2025-05-25 16:42:40.411 Thread 'MainThread': missing ScriptRunContext! This warning can be ignored when running in bare mode.\n",
      "2025-05-25 16:42:40.412 Thread 'MainThread': missing ScriptRunContext! This warning can be ignored when running in bare mode.\n",
      "2025-05-25 16:42:40.415 Thread 'MainThread': missing ScriptRunContext! This warning can be ignored when running in bare mode.\n"
     ]
    },
    {
     "data": {
      "text/plain": [
       "DeltaGenerator()"
      ]
     },
     "execution_count": 7,
     "metadata": {},
     "output_type": "execute_result"
    }
   ],
   "source": [
    "#KPIS\n",
    "\n",
    "col1, col2, col3 = st.columns(3)\n",
    "col1.metric(\"Total Units Sold\", int(df_vendor['UNIDADES VENDIDAS'].sum()))\n",
    "col2.metric(\"Total Sales\", f\"${df_vendor['VENTAS TOTALES'].sum():,.2f}\")\n"
   ]
  },
  {
   "cell_type": "code",
   "execution_count": 8,
   "id": "7d108cfa",
   "metadata": {},
   "outputs": [
    {
     "name": "stderr",
     "output_type": "stream",
     "text": [
      "2025-05-25 16:42:40.437 Thread 'MainThread': missing ScriptRunContext! This warning can be ignored when running in bare mode.\n",
      "2025-05-25 16:42:40.438 Thread 'MainThread': missing ScriptRunContext! This warning can be ignored when running in bare mode.\n",
      "2025-05-25 16:42:40.446 Thread 'MainThread': missing ScriptRunContext! This warning can be ignored when running in bare mode.\n",
      "2025-05-25 16:42:40.447 Thread 'MainThread': missing ScriptRunContext! This warning can be ignored when running in bare mode.\n",
      "2025-05-25 16:42:40.448 Thread 'MainThread': missing ScriptRunContext! This warning can be ignored when running in bare mode.\n",
      "2025-05-25 16:42:40.449 Thread 'MainThread': missing ScriptRunContext! This warning can be ignored when running in bare mode.\n",
      "2025-05-25 16:42:40.450 Thread 'MainThread': missing ScriptRunContext! This warning can be ignored when running in bare mode.\n",
      "2025-05-25 16:42:40.451 Thread 'MainThread': missing ScriptRunContext! This warning can be ignored when running in bare mode.\n",
      "2025-05-25 16:42:40.718 Thread 'MainThread': missing ScriptRunContext! This warning can be ignored when running in bare mode.\n",
      "2025-05-25 16:42:40.719 Thread 'MainThread': missing ScriptRunContext! This warning can be ignored when running in bare mode.\n"
     ]
    }
   ],
   "source": [
    "# Visualization selection\n",
    "\n",
    "\n",
    "st.subheader(\"Sales Visualizations\")\n",
    "chart_type = st.radio(\"Select Chart\", [\"Units Sold\", \"Total Sales\"])\n",
    "\n",
    "if chart_type == \"Units Sold\":\n",
    "    chart_data = df_vendor.groupby('NOMBRE')['UNIDADES VENDIDAS'].sum().sort_values()\n",
    "    st.bar_chart(chart_data)\n",
    "elif chart_type == \"Total Sales\":\n",
    "    chart_data = df_vendor.groupby('NOMBRE')['VENTAS TOTALES'].sum().sort_values()\n",
    "    st.bar_chart(chart_data)\n",
    "else:\n",
    "    chart_data = df_vendor.groupby('NOMBRE')['VENTAS TOTALES'].mean().sort_values()\n",
    "    st.bar_chart(chart_data)\n",
    "    "
   ]
  },
  {
   "cell_type": "code",
   "execution_count": 9,
   "id": "b352c2b5",
   "metadata": {},
   "outputs": [
    {
     "name": "stderr",
     "output_type": "stream",
     "text": [
      "2025-05-25 16:42:40.731 Thread 'MainThread': missing ScriptRunContext! This warning can be ignored when running in bare mode.\n",
      "2025-05-25 16:42:40.732 Thread 'MainThread': missing ScriptRunContext! This warning can be ignored when running in bare mode.\n",
      "2025-05-25 16:42:40.733 Thread 'MainThread': missing ScriptRunContext! This warning can be ignored when running in bare mode.\n",
      "2025-05-25 16:42:40.734 Thread 'MainThread': missing ScriptRunContext! This warning can be ignored when running in bare mode.\n",
      "2025-05-25 16:42:40.740 Thread 'MainThread': missing ScriptRunContext! This warning can be ignored when running in bare mode.\n",
      "2025-05-25 16:42:40.741 Thread 'MainThread': missing ScriptRunContext! This warning can be ignored when running in bare mode.\n"
     ]
    },
    {
     "data": {
      "text/plain": [
       "False"
      ]
     },
     "execution_count": 9,
     "metadata": {},
     "output_type": "execute_result"
    }
   ],
   "source": [
    "#Download button for filtered data\n",
    "\n",
    "st.download_button(\"Download Filtered Data as CSV\", df_vendor.to_csv(index=False), \"filtered_sellers.csv\")\n"
   ]
  },
  {
   "cell_type": "code",
   "execution_count": null,
   "id": "bbd33b8f",
   "metadata": {},
   "outputs": [],
   "source": []
  },
  {
   "cell_type": "code",
   "execution_count": null,
   "id": "f5b7c593",
   "metadata": {},
   "outputs": [],
   "source": []
  }
 ],
 "metadata": {
  "kernelspec": {
   "display_name": "Python 3",
   "language": "python",
   "name": "python3"
  },
  "language_info": {
   "codemirror_mode": {
    "name": "ipython",
    "version": 3
   },
   "file_extension": ".py",
   "mimetype": "text/x-python",
   "name": "python",
   "nbconvert_exporter": "python",
   "pygments_lexer": "ipython3",
   "version": "3.13.3"
  }
 },
 "nbformat": 4,
 "nbformat_minor": 5
}
